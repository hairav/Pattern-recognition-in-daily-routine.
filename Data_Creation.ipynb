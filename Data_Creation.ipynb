{
 "cells": [
  {
   "cell_type": "code",
   "execution_count": 13,
   "metadata": {
    "collapsed": true
   },
   "outputs": [],
   "source": [
    "import numpy \n",
    "import random\n",
    "import math\n",
    "import pandas\n",
    "import itertools\n",
    "\n",
    "FILENAME = \"data.csv\"\n",
    "NAMES = ['Start','End','Bracket','Room']"
   ]
  },
  {
   "cell_type": "code",
   "execution_count": 14,
   "metadata": {
    "collapsed": false
   },
   "outputs": [],
   "source": [
    "def create_file(names,filename):\n",
    "    file = open(filename, 'w+')\n",
    "    Headings = names[0]\n",
    "    for i in names[1:]:\n",
    "        Headings += ','+i\n",
    "    Headings += '\\n'\n",
    "    print(Headings)\n",
    "    file.write(Headings)\n",
    "    file.close()\n",
    "\n",
    "def add_data(Start, Bracket, Label,filename):\n",
    "    file = open(filename,'a+')\n",
    "    for it in range(20):\n",
    "        Start = 0\n",
    "        for i,j in itertools.zip_longest(Bracket[:len(Bracket)-1],Label[:len(Label)-1]):\n",
    "            bracket = int(max(14,numpy.random.normal(i,max(0.1,numpy.random.normal(30,10,1)),1)))\n",
    "            file.write(str(Start)+','+str(Start+bracket)+','+str(bracket)+','+str(j)+'\\n')\n",
    "            Start += bracket\n",
    "        file.write(str(Start)+','+str(1440)+','+str(1440 - Start)+','+str(j)+'\\n')\n",
    "    file.close()\n",
    "    "
   ]
  },
  {
   "cell_type": "code",
   "execution_count": 15,
   "metadata": {
    "collapsed": false
   },
   "outputs": [
    {
     "name": "stdout",
     "output_type": "stream",
     "text": [
      "Start,End,Bracket,Room\n",
      "\n"
     ]
    }
   ],
   "source": [
    "create_file(NAMES,FILENAME)"
   ]
  },
  {
   "cell_type": "code",
   "execution_count": 16,
   "metadata": {
    "collapsed": false
   },
   "outputs": [
    {
     "name": "stdout",
     "output_type": "stream",
     "text": [
      "1440.0\n",
      "1440.0\n",
      "1440.0\n",
      "1440.0\n",
      "1440.0\n",
      "1439.9999999999998\n",
      "1440.0\n"
     ]
    }
   ],
   "source": [
    "d = {0:'b',1:'k',2:'w',3:'l'}\n",
    "di={'keshav':[[700,20,170,80,130,20,160,60,120,30,40],[0,2,1,3,0,2,3,1,0,2,0]],\n",
    "'harsh':[[485,25,15,15,250,40,50,180,30,60,40,90,30,60,20,90],[0,2,1,0,3,1,3,0,3,2,3,0,1,3,2,3]],\n",
    "'ankur':[[510,15,25,80,120,40,60,140,50,30,10,120,20,220],[0,2,1,0,3,1,0,3,0,1,2,3,2,0]],\n",
    "'yash':[[40,560,30,70,240,90,170,100,20,110,10],[3,0,2,1,3,0,1,3,2,0,2]],\n",
    "'animesh':[[660,30,40,70,30,60,130,60,30,30,240,60],[0,2,0,3,1,0,3,3,1,3,0,3]],\n",
    "'animesh1':[[690,20,50,55,205,75,35,70,120,40,80],[0,3,1,0,3,1,3,2,0,1,0]],\n",
    "'utkarsh':[[555,45,115,30,30,130,110,30,150,40,100,100],[0,2,3,2,1,0,3,0,3,1,3,0]]}\n",
    "\n",
    "for j in di:\n",
    "    s = sum(di[j][0])\n",
    "    for i in range(len(di[j][0])):\n",
    "        di[j][0][i] *= 1440/s\n",
    "    print(sum(di[j][0]))\n"
   ]
  },
  {
   "cell_type": "code",
   "execution_count": 17,
   "metadata": {
    "collapsed": false
   },
   "outputs": [],
   "source": [
    "for i in di:\n",
    "    add_data(0,di[i][0],[d[j] for j in di[i][1]],FILENAME)"
   ]
  },
  {
   "cell_type": "code",
   "execution_count": 19,
   "metadata": {
    "collapsed": false
   },
   "outputs": [
    {
     "name": "stdout",
     "output_type": "stream",
     "text": [
      "      Start   End  Bracket Room\n",
      "0         0   497      497    b\n",
      "1       497   527       30    w\n",
      "2       527   545       18    k\n",
      "3       545   662      117    b\n",
      "4       662   835      173    l\n",
      "5       835   924       89    k\n",
      "6       924   955       31    b\n",
      "7       955  1091      136    l\n",
      "8      1091  1121       30    b\n",
      "9      1121  1208       87    k\n",
      "10     1208  1226       18    w\n",
      "11     1226  1338      112    l\n",
      "12     1338  1352       14    w\n",
      "13     1352  1440       88    w\n",
      "14        0   446      446    b\n",
      "15      446   460       14    w\n",
      "16      460   476       16    k\n",
      "17      476   571       95    b\n",
      "18      571   704      133    l\n",
      "19      704   833      129    k\n",
      "20      833   896       63    b\n",
      "21      896  1047      151    l\n",
      "22     1047  1062       15    b\n",
      "23     1062  1099       37    k\n",
      "24     1099  1135       36    w\n",
      "25     1135  1249      114    l\n",
      "26     1249  1263       14    w\n",
      "27     1263  1440      177    w\n",
      "28        0   525      525    b\n",
      "29      525   570       45    w\n",
      "...     ...   ...      ...  ...\n",
      "1710    942  1022       80    l\n",
      "1711   1022  1036       14    b\n",
      "1712   1036  1187      151    l\n",
      "1713   1187  1247       60    k\n",
      "1714   1247  1326       79    l\n",
      "1715   1326  1440      114    l\n",
      "1716      0   570      570    b\n",
      "1717    570   588       18    w\n",
      "1718    588   690      102    l\n",
      "1719    690   750       60    w\n",
      "1720    750   801       51    k\n",
      "1721    801   941      140    b\n",
      "1722    941  1032       91    l\n",
      "1723   1032  1046       14    b\n",
      "1724   1046  1199      153    l\n",
      "1725   1199  1228       29    k\n",
      "1726   1228  1319       91    l\n",
      "1727   1319  1440      121    l\n",
      "1728      0   574      574    b\n",
      "1729    574   611       37    w\n",
      "1730    611   673       62    l\n",
      "1731    673   700       27    w\n",
      "1732    700   771       71    k\n",
      "1733    771   907      136    b\n",
      "1734    907  1004       97    l\n",
      "1735   1004  1018       14    b\n",
      "1736   1018  1188      170    l\n",
      "1737   1188  1202       14    k\n",
      "1738   1202  1295       93    l\n",
      "1739   1295  1440      145    l\n",
      "\n",
      "[1740 rows x 4 columns]\n"
     ]
    }
   ],
   "source": [
    "data = pandas.read_csv(FILENAME)\n",
    "print(data)"
   ]
  },
  {
   "cell_type": "code",
   "execution_count": null,
   "metadata": {
    "collapsed": true
   },
   "outputs": [],
   "source": []
  },
  {
   "cell_type": "code",
   "execution_count": null,
   "metadata": {
    "collapsed": true
   },
   "outputs": [],
   "source": []
  }
 ],
 "metadata": {
  "anaconda-cloud": {},
  "kernelspec": {
   "display_name": "Python [default]",
   "language": "python",
   "name": "python3"
  },
  "language_info": {
   "codemirror_mode": {
    "name": "ipython",
    "version": 3
   },
   "file_extension": ".py",
   "mimetype": "text/x-python",
   "name": "python",
   "nbconvert_exporter": "python",
   "pygments_lexer": "ipython3",
   "version": "3.5.4"
  }
 },
 "nbformat": 4,
 "nbformat_minor": 1
}
